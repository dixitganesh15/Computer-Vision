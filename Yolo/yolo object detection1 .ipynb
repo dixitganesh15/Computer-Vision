{
 "cells": [
  {
   "cell_type": "code",
   "execution_count": 1,
   "metadata": {},
   "outputs": [],
   "source": [
    "import numpy as np\n",
    "import cv2"
   ]
  },
  {
   "cell_type": "code",
   "execution_count": 2,
   "metadata": {},
   "outputs": [
    {
     "data": {
      "text/plain": [
       "(518, 520, 3)"
      ]
     },
     "execution_count": 2,
     "metadata": {},
     "output_type": "execute_result"
    }
   ],
   "source": [
    "img = cv2.imread(r'yolo004.png')\n",
    "img.shape"
   ]
  },
  {
   "cell_type": "code",
   "execution_count": 3,
   "metadata": {},
   "outputs": [],
   "source": [
    "width = int(img.shape[1])\n",
    "height = int(img.shape[0])"
   ]
  },
  {
   "cell_type": "code",
   "execution_count": 4,
   "metadata": {},
   "outputs": [],
   "source": [
    "img =cv2.resize(img,(width,height))"
   ]
  },
  {
   "cell_type": "code",
   "execution_count": 5,
   "metadata": {},
   "outputs": [],
   "source": [
    "net = cv2.dnn.readNet('yolov3-tiny.weights','yolov3-tiny.cfg')"
   ]
  },
  {
   "cell_type": "code",
   "execution_count": 6,
   "metadata": {},
   "outputs": [],
   "source": [
    "classes = []\n",
    "with open('coco.names.txt','r')as f:\n",
    "    classes = f.read().splitlines()"
   ]
  },
  {
   "cell_type": "code",
   "execution_count": 7,
   "metadata": {},
   "outputs": [],
   "source": [
    "# classes"
   ]
  },
  {
   "cell_type": "code",
   "execution_count": 8,
   "metadata": {},
   "outputs": [],
   "source": [
    "blob = cv2.dnn.blobFromImage(img, 1/255, (416,416), (0,0,0), swapRB = False, crop = False)"
   ]
  },
  {
   "cell_type": "code",
   "execution_count": 9,
   "metadata": {},
   "outputs": [],
   "source": [
    "# for each in blob:\n",
    "#     for n, image in enumerate(each):\n",
    "#         cv2.imshow(str(n), image)\n",
    "#         cv2.waitKey(0)\n",
    "#         cv2.destroyAllWindows()"
   ]
  },
  {
   "cell_type": "code",
   "execution_count": 10,
   "metadata": {},
   "outputs": [],
   "source": [
    "net.setInput(blob)\n",
    "output_layers = net.getUnconnectedOutLayersNames()"
   ]
  },
  {
   "cell_type": "code",
   "execution_count": 11,
   "metadata": {},
   "outputs": [
    {
     "name": "stdout",
     "output_type": "stream",
     "text": [
      "['yolo_16', 'yolo_23']\n"
     ]
    }
   ],
   "source": [
    "print(output_layers)"
   ]
  },
  {
   "cell_type": "code",
   "execution_count": 12,
   "metadata": {},
   "outputs": [],
   "source": [
    "layerOutputs = net.forward(output_layers)"
   ]
  },
  {
   "cell_type": "code",
   "execution_count": 13,
   "metadata": {},
   "outputs": [
    {
     "name": "stdout",
     "output_type": "stream",
     "text": [
      "[array([[0.0597829 , 0.05273973, 0.17765619, ..., 0.        , 0.        ,\n",
      "        0.        ],\n",
      "       [0.03927024, 0.04452548, 0.2241416 , ..., 0.        , 0.        ,\n",
      "        0.        ],\n",
      "       [0.03310811, 0.0452447 , 0.96758646, ..., 0.        , 0.        ,\n",
      "        0.        ],\n",
      "       ...,\n",
      "       [0.9462963 , 0.96211433, 0.1984945 , ..., 0.        , 0.        ,\n",
      "        0.        ],\n",
      "       [0.9559401 , 0.9531429 , 0.22084059, ..., 0.        , 0.        ,\n",
      "        0.        ],\n",
      "       [0.9669117 , 0.9533934 , 0.7730628 , ..., 0.        , 0.        ,\n",
      "        0.        ]], dtype=float32), array([[0.02193795, 0.0198808 , 0.02341989, ..., 0.        , 0.        ,\n",
      "        0.        ],\n",
      "       [0.0217988 , 0.02391635, 0.03281626, ..., 0.        , 0.        ,\n",
      "        0.        ],\n",
      "       [0.01350834, 0.02137448, 0.1280345 , ..., 0.        , 0.        ,\n",
      "        0.        ],\n",
      "       ...,\n",
      "       [0.97700554, 0.9779301 , 0.02420612, ..., 0.        , 0.        ,\n",
      "        0.        ],\n",
      "       [0.9779004 , 0.970786  , 0.03908009, ..., 0.        , 0.        ,\n",
      "        0.        ],\n",
      "       [0.98049253, 0.97819996, 0.12585245, ..., 0.        , 0.        ,\n",
      "        0.        ]], dtype=float32)]\n"
     ]
    }
   ],
   "source": [
    "print(layerOutputs)"
   ]
  },
  {
   "cell_type": "code",
   "execution_count": 14,
   "metadata": {},
   "outputs": [
    {
     "name": "stdout",
     "output_type": "stream",
     "text": [
      "4\n",
      "[0 2 3 1]\n"
     ]
    }
   ],
   "source": [
    "boxes = []\n",
    "confidences = []\n",
    "class_ids = []\n",
    "\n",
    "for each in layerOutputs:\n",
    "    for detection in each:\n",
    "        scores = detection[5:]\n",
    "        class_id = np.argmax(scores)\n",
    "        confidence = scores[class_id]\n",
    "        \n",
    "        if confidence > 0.4 :\n",
    "            center_x = int(detection[0] * width) \n",
    "            center_y = int(detection[1] * height)\n",
    "            w = int(detection[2] * width)\n",
    "            h = int(detection[3] * height)\n",
    "            \n",
    "            x = int(center_x - (w/2))\n",
    "            y = int(center_y - (h/2))\n",
    "            \n",
    "            boxes.append([x,y,w,h])\n",
    "            confidences.append(float(confidence))\n",
    "            class_ids.append(class_id)\n",
    "print(len(boxes))\n",
    "            \n",
    "indexes = cv2.dnn.NMSBoxes(boxes, confidences, 0.4,0.4)\n",
    "print(indexes.flatten())\n",
    "\n",
    "font = cv2.FONT_HERSHEY_PLAIN\n",
    "colors = np.random.uniform(0,255,size = (len(boxes), 3))\n",
    "\n",
    "# print(indexes.flatten())\n",
    "\n",
    "for i in indexes.flatten():\n",
    "    x,y,w,h = boxes[i]\n",
    "    label = str(class_ids[i])\n",
    "    j = int(label)\n",
    "    confidence = str(round(confidences[i],2))\n",
    "    color = colors[i]\n",
    "    cv2.rectangle(img, (x,y), (x+w, y+h),color,2 )\n",
    "    cv2.putText(img, classes[j]+\" \"+ confidence+'%', (x,y-20), font, 1,(255,255,255),2)\n"
   ]
  },
  {
   "cell_type": "code",
   "execution_count": 15,
   "metadata": {},
   "outputs": [],
   "source": [
    "cv2.imshow(\"Yolo Image\", img)\n",
    "cv2.waitKey(0)\n",
    "cv2.destroyAllWindows()"
   ]
  }
 ],
 "metadata": {
  "kernelspec": {
   "display_name": "Python 3",
   "language": "python",
   "name": "python3"
  },
  "language_info": {
   "codemirror_mode": {
    "name": "ipython",
    "version": 3
   },
   "file_extension": ".py",
   "mimetype": "text/x-python",
   "name": "python",
   "nbconvert_exporter": "python",
   "pygments_lexer": "ipython3",
   "version": "3.7.7"
  }
 },
 "nbformat": 4,
 "nbformat_minor": 4
}
