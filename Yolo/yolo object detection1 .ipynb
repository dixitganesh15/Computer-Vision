{
 "cells": [
  {
   "cell_type": "code",
   "execution_count": 1,
   "metadata": {},
   "outputs": [],
   "source": [
    "import numpy as np\n",
    "import cv2"
   ]
  },
  {
   "cell_type": "code",
   "execution_count": 2,
   "metadata": {},
   "outputs": [
    {
     "data": {
      "text/plain": [
       "(518, 520, 3)"
      ]
     },
     "execution_count": 2,
     "metadata": {},
     "output_type": "execute_result"
    }
   ],
   "source": [
    "img = cv2.imread(r'yolo004.png')\n",
    "img.shape"
   ]
  },
  {
   "cell_type": "code",
   "execution_count": 3,
   "metadata": {},
   "outputs": [],
   "source": [
    "width = int(img.shape[1])\n",
    "height = int(img.shape[0])"
   ]
  },
  {
   "cell_type": "code",
   "execution_count": 4,
   "metadata": {},
   "outputs": [],
   "source": [
    "img =cv2.resize(img,(width,height))"
   ]
  },
  {
   "cell_type": "code",
   "execution_count": 5,
   "metadata": {},
   "outputs": [],
   "source": [
    "net = cv2.dnn.readNet('yolov3-608.weights','yolov3-608.cfg')"
   ]
  },
  {
   "cell_type": "code",
   "execution_count": 6,
   "metadata": {},
   "outputs": [],
   "source": [
    "classes = []\n",
    "with open('coco.names.txt','r')as f:\n",
    "    classes = f.read().splitlines()"
   ]
  },
  {
   "cell_type": "code",
   "execution_count": 7,
   "metadata": {},
   "outputs": [],
   "source": [
    "# classes"
   ]
  },
  {
   "cell_type": "code",
   "execution_count": 8,
   "metadata": {},
   "outputs": [],
   "source": [
    "blob = cv2.dnn.blobFromImage(img, 1/255, (416,416), (0,0,0), swapRB = False, crop = False)"
   ]
  },
  {
   "cell_type": "code",
   "execution_count": 9,
   "metadata": {},
   "outputs": [],
   "source": [
    "# for each in blob:\n",
    "#     for n, image in enumerate(each):\n",
    "#         cv2.imshow(str(n), image)\n",
    "#         cv2.waitKey(0)\n",
    "#         cv2.destroyAllWindows()"
   ]
  },
  {
   "cell_type": "code",
   "execution_count": 10,
   "metadata": {},
   "outputs": [],
   "source": [
    "net.setInput(blob)\n",
    "output_layers = net.getUnconnectedOutLayersNames()"
   ]
  },
  {
   "cell_type": "code",
   "execution_count": 11,
   "metadata": {},
   "outputs": [
    {
     "name": "stdout",
     "output_type": "stream",
     "text": [
      "['yolo_82', 'yolo_94', 'yolo_106']\n"
     ]
    }
   ],
   "source": [
    "print(output_layers)"
   ]
  },
  {
   "cell_type": "code",
   "execution_count": 12,
   "metadata": {},
   "outputs": [],
   "source": [
    "layerOutputs = net.forward(output_layers)"
   ]
  },
  {
   "cell_type": "code",
   "execution_count": 13,
   "metadata": {},
   "outputs": [
    {
     "name": "stdout",
     "output_type": "stream",
     "text": [
      "[array([[0.03711009, 0.04611082, 0.32006752, ..., 0.        , 0.        ,\n",
      "        0.        ],\n",
      "       [0.04485886, 0.02454682, 0.26601022, ..., 0.        , 0.        ,\n",
      "        0.        ],\n",
      "       [0.04934746, 0.03230881, 0.87932926, ..., 0.        , 0.        ,\n",
      "        0.        ],\n",
      "       ...,\n",
      "       [0.9625247 , 0.9518994 , 0.46236646, ..., 0.        , 0.        ,\n",
      "        0.        ],\n",
      "       [0.95763004, 0.96703565, 0.34046686, ..., 0.        , 0.        ,\n",
      "        0.        ],\n",
      "       [0.96321225, 0.9532411 , 0.8203856 , ..., 0.        , 0.        ,\n",
      "        0.        ]], dtype=float32), array([[0.02311152, 0.01912672, 0.06004161, ..., 0.        , 0.        ,\n",
      "        0.        ],\n",
      "       [0.01260503, 0.01818085, 0.36434036, ..., 0.        , 0.        ,\n",
      "        0.        ],\n",
      "       [0.02031282, 0.01672787, 0.086753  , ..., 0.        , 0.        ,\n",
      "        0.        ],\n",
      "       ...,\n",
      "       [0.9690349 , 0.9779853 , 0.04807407, ..., 0.        , 0.        ,\n",
      "        0.        ],\n",
      "       [0.9832755 , 0.9792702 , 0.3396868 , ..., 0.        , 0.        ,\n",
      "        0.        ],\n",
      "       [0.9780269 , 0.9808213 , 0.06419007, ..., 0.        , 0.        ,\n",
      "        0.        ]], dtype=float32), array([[0.01106647, 0.00657754, 0.0164411 , ..., 0.        , 0.        ,\n",
      "        0.        ],\n",
      "       [0.01039905, 0.0102885 , 0.01927545, ..., 0.        , 0.        ,\n",
      "        0.        ],\n",
      "       [0.01023892, 0.0076842 , 0.17978488, ..., 0.        , 0.        ,\n",
      "        0.        ],\n",
      "       ...,\n",
      "       [0.9890594 , 0.9902786 , 0.0098929 , ..., 0.        , 0.        ,\n",
      "        0.        ],\n",
      "       [0.98968863, 0.98597074, 0.01665534, ..., 0.        , 0.        ,\n",
      "        0.        ],\n",
      "       [0.9877606 , 0.9939858 , 0.15879074, ..., 0.        , 0.        ,\n",
      "        0.        ]], dtype=float32)]\n"
     ]
    }
   ],
   "source": [
    "print(layerOutputs)"
   ]
  },
  {
   "cell_type": "code",
   "execution_count": 14,
   "metadata": {},
   "outputs": [
    {
     "name": "stdout",
     "output_type": "stream",
     "text": [
      "3\n",
      "[1 2 0]\n"
     ]
    }
   ],
   "source": [
    "boxes = []\n",
    "confidences = []\n",
    "class_ids = []\n",
    "\n",
    "for each in layerOutputs:\n",
    "    for detection in each:\n",
    "        scores = detection[5:]\n",
    "        class_id = np.argmax(scores)\n",
    "        confidence = scores[class_id]\n",
    "        \n",
    "        if confidence > 0.5:\n",
    "            center_x = int(detection[0] * width) \n",
    "            center_y = int(detection[1] * height)\n",
    "            w = int(detection[2] * width)\n",
    "            h = int(detection[3] * height)\n",
    "            \n",
    "            x = int(center_x - (w/2))\n",
    "            y = int(center_y - (h/2))\n",
    "            \n",
    "            boxes.append([x,y,w,h])\n",
    "            confidences.append(float(confidence))\n",
    "            class_ids.append(class_id)\n",
    "print(len(boxes))\n",
    "            \n",
    "indexes = cv2.dnn.NMSBoxes(boxes, confidences, 0.5,0.4)\n",
    "print(indexes.flatten())\n",
    "\n",
    "font = cv2.FONT_HERSHEY_PLAIN\n",
    "colors = np.random.uniform(0,255,size = (len(boxes), 3))\n",
    "\n",
    "# print(indexes.flatten())\n",
    "\n",
    "for i in indexes.flatten():\n",
    "    x,y,w,h = boxes[i]\n",
    "    label = str(class_ids[i])\n",
    "    j = int(label)\n",
    "    confidence = str(round(confidences[i],2))\n",
    "    color = colors[i]\n",
    "    cv2.rectangle(img, (x,y), (x+w, y+h),color,2 )\n",
    "    cv2.putText(img, classes[j]+\" \"+ confidence+'%', (x,y-20), font, 1,(255,255,255),2)\n"
   ]
  },
  {
   "cell_type": "code",
   "execution_count": 15,
   "metadata": {},
   "outputs": [],
   "source": [
    "cv2.imshow(\"Yolo Image\", img)\n",
    "cv2.waitKey(0)\n",
    "cv2.destroyAllWindows()"
   ]
  },
  {
   "cell_type": "code",
   "execution_count": 16,
   "metadata": {},
   "outputs": [
    {
     "data": {
      "text/plain": [
       "True"
      ]
     },
     "execution_count": 16,
     "metadata": {},
     "output_type": "execute_result"
    }
   ],
   "source": [
    "cv2.imwrite('Object detected.jpg',img)"
   ]
  }
 ],
 "metadata": {
  "kernelspec": {
   "display_name": "Python 3",
   "language": "python",
   "name": "python3"
  },
  "language_info": {
   "codemirror_mode": {
    "name": "ipython",
    "version": 3
   },
   "file_extension": ".py",
   "mimetype": "text/x-python",
   "name": "python",
   "nbconvert_exporter": "python",
   "pygments_lexer": "ipython3",
   "version": "3.7.7"
  }
 },
 "nbformat": 4,
 "nbformat_minor": 4
}
