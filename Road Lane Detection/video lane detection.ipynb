{
 "cells": [
  {
   "cell_type": "code",
   "execution_count": 8,
   "metadata": {},
   "outputs": [
    {
     "name": "stdout",
     "output_type": "stream",
     "text": [
      "1280\n",
      "720\n"
     ]
    }
   ],
   "source": [
    "import cv2\n",
    "import numpy as np\n",
    "\n",
    "#Load the video \n",
    "cap = cv2.VideoCapture(r\"C:\\Desktop\\Downloads\\lane.mp4\")\n",
    "\n",
    "#The dimensions of the video are obtained\n",
    "width = int(cap.get(3)) \n",
    "height = int(cap.get(4))\n",
    "print(width)\n",
    "print(height)\n",
    "siz = (height, width) \n",
    "\n",
    "#Saving the video file\n",
    "fourcc = cv2.VideoWriter_fourcc(*'XVID')\n",
    "out = cv2.VideoWriter(\"Lane.mp4\",fourcc, 20.0, siz)\n",
    "\n",
    "#The main program that displays the video with lane detection\n",
    "while cap.isOpened():\n",
    "    ret,frame = cap.read()\n",
    "    \n",
    "    if ret == True:\n",
    "        \n",
    "#         print(frame.shape)\n",
    "       \n",
    "        #Convert each frame of the video into grayscale format\n",
    "        gray = cv2.cvtColor(frame, cv2.COLOR_BGR2GRAY)\n",
    "        \n",
    "        #Blur the image so as to reduce the intensity of the image\n",
    "        blur = cv2.GaussianBlur(gray,(7,7),2)\n",
    "        \n",
    "        #Canned the image to get the edges in a better way\n",
    "        canned = cv2.Canny(blur, 150,60)\n",
    "        \n",
    "        #Create a black image similar to the size of the frame\n",
    "        mask = np.zeros_like(blur)\n",
    "        \n",
    "        #Find the approximate vertices of the road in the frames of the video\n",
    "        vertices = np.array([[(0,720),(0,450),(300,250),(800,250),(1280,700),(1280,720)]])\n",
    "        \n",
    "        #Fill the frames with the polygon obtained from the vertices\n",
    "        mask = cv2.fillPoly(mask,vertices,(200,0,0))\n",
    "#         plt.imshow(mask)\n",
    "        \n",
    "        #Bitwise and to obtain only the frame that comes under the vertices drawn\n",
    "        masked_image = cv2.bitwise_and(canned,mask)\n",
    "        \n",
    "        \n",
    "        #Hough transformation to obtain the lines and draw them on the frame\n",
    "        lines = cv2.HoughLinesP(masked_image,1,np.pi/180, 20, minLineLength=70, maxLineGap = 8)\n",
    "\n",
    "        for line in lines:\n",
    "            line_image = np.zeros((masked_image.shape[0],masked_image.shape[1]))\n",
    "            for x1, y1, x2, y2 in line:\n",
    "                cv2.line(frame,(x1,y1),(x2,y2),(0,255,0),3)\n",
    "        \n",
    "        #Display the frames with the lanes detected on the video\n",
    "        \n",
    "        cv2.imshow('Frames',frame)\n",
    "        out.write(frame)\n",
    "        \n",
    "        \n",
    "        if cv2.waitKey(1) & 0xFF == 27:\n",
    "            break\n",
    "            \n",
    "    else:\n",
    "        break\n",
    "cap.release()\n",
    "out.release()\n",
    "cv2.destroyAllWindows()"
   ]
  },
  {
   "cell_type": "code",
   "execution_count": null,
   "metadata": {},
   "outputs": [],
   "source": []
  }
 ],
 "metadata": {
  "kernelspec": {
   "display_name": "Python 3",
   "language": "python",
   "name": "python3"
  },
  "language_info": {
   "codemirror_mode": {
    "name": "ipython",
    "version": 3
   },
   "file_extension": ".py",
   "mimetype": "text/x-python",
   "name": "python",
   "nbconvert_exporter": "python",
   "pygments_lexer": "ipython3",
   "version": "3.7.7"
  }
 },
 "nbformat": 4,
 "nbformat_minor": 4
}
